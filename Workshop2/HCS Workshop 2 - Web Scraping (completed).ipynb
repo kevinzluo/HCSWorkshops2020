{
 "cells": [
  {
   "cell_type": "code",
   "execution_count": 1,
   "metadata": {},
   "outputs": [],
   "source": [
    "# HCS Workshop 2, Web Scraping"
   ]
  },
  {
   "cell_type": "code",
   "execution_count": 2,
   "metadata": {},
   "outputs": [],
   "source": [
    "# Author: Kevin Luo"
   ]
  },
  {
   "cell_type": "code",
   "execution_count": 3,
   "metadata": {},
   "outputs": [
    {
     "output_type": "stream",
     "name": "stdout",
     "text": [
      "200\n"
     ]
    }
   ],
   "source": [
    "import requests\n",
    "from bs4 import BeautifulSoup\n",
    "\n",
    "page = requests.get(\"https://store.steampowered.com/stats/\")\n",
    "print(page.status_code)"
   ]
  },
  {
   "cell_type": "code",
   "execution_count": 4,
   "metadata": {
    "tags": []
   },
   "outputs": [],
   "source": [
    "soup = BeautifulSoup(page.content, 'html.parser')"
   ]
  },
  {
   "cell_type": "code",
   "execution_count": 5,
   "metadata": {},
   "outputs": [
    {
     "output_type": "execute_result",
     "data": {
      "text/plain": [
       "<tr>\n",
       "<td align=\"right\"><b>Current Players</b></td>\n",
       "<td align=\"right\" style=\"padding-left: 12px\"><b>Peak Today</b></td>\n",
       "<td width=\"20\"> </td>\n",
       "<td align=\"left\"><b>Game</b></td>\n",
       "</tr>"
      ]
     },
     "metadata": {},
     "execution_count": 5
    }
   ],
   "source": [
    "table = soup.find(id=\"detailStats\")\n",
    "rows = table.find_all(\"tr\")\n",
    "rows[0]"
   ]
  },
  {
   "cell_type": "code",
   "execution_count": 6,
   "metadata": {},
   "outputs": [
    {
     "output_type": "execute_result",
     "data": {
      "text/plain": [
       "['Current Players', 'Peak Today', '', 'Game']"
      ]
     },
     "metadata": {},
     "execution_count": 6
    }
   ],
   "source": [
    "header = rows[0]\n",
    "cols = header.find_all('td')\n",
    "cols = [str.strip(title.get_text()) for title in cols]\n",
    "cols"
   ]
  },
  {
   "cell_type": "code",
   "execution_count": 7,
   "metadata": {},
   "outputs": [
    {
     "output_type": "execute_result",
     "data": {
      "text/plain": [
       "['494,945', '892,234', '', 'Counter-Strike: Global Offensive']"
      ]
     },
     "metadata": {},
     "execution_count": 7
    }
   ],
   "source": [
    "games = rows[2:]\n",
    "data = []\n",
    "\n",
    "for game in games:\n",
    "    cells = game.find_all('td')\n",
    "    cells = [str.strip(cell.get_text()) for cell in cells]\n",
    "    data.append(cells)\n",
    "\n",
    "data[0]"
   ]
  },
  {
   "cell_type": "code",
   "execution_count": 8,
   "metadata": {},
   "outputs": [],
   "source": [
    "import pandas as pd\n",
    "df = pd.DataFrame(data)\n",
    "df.columns = cols\n",
    "\n",
    "df = df.drop('', axis=1)"
   ]
  },
  {
   "cell_type": "code",
   "execution_count": 9,
   "metadata": {},
   "outputs": [
    {
     "output_type": "execute_result",
     "data": {
      "text/plain": [
       "    Current Players  Peak Today                              Game\n",
       "0            494945      892234  Counter-Strike: Global Offensive\n",
       "1            346944      632060                            Dota 2\n",
       "2            188163      346450     PLAYERUNKNOWN'S BATTLEGROUNDS\n",
       "3             69091      264004                          Among Us\n",
       "4             56693      104107                Grand Theft Auto V\n",
       "..              ...         ...                               ...\n",
       "95             4080       10670  eFootball PES 2021 SEASON UPDATE\n",
       "96             4059        7137                         Grim Dawn\n",
       "97             4047        9292                    Sea of Thieves\n",
       "98             4044        7834                        Soulworker\n",
       "99             4038        7853                         Far Cry 5\n",
       "\n",
       "[100 rows x 3 columns]"
      ],
      "text/html": "<div>\n<style scoped>\n    .dataframe tbody tr th:only-of-type {\n        vertical-align: middle;\n    }\n\n    .dataframe tbody tr th {\n        vertical-align: top;\n    }\n\n    .dataframe thead th {\n        text-align: right;\n    }\n</style>\n<table border=\"1\" class=\"dataframe\">\n  <thead>\n    <tr style=\"text-align: right;\">\n      <th></th>\n      <th>Current Players</th>\n      <th>Peak Today</th>\n      <th>Game</th>\n    </tr>\n  </thead>\n  <tbody>\n    <tr>\n      <th>0</th>\n      <td>494945</td>\n      <td>892234</td>\n      <td>Counter-Strike: Global Offensive</td>\n    </tr>\n    <tr>\n      <th>1</th>\n      <td>346944</td>\n      <td>632060</td>\n      <td>Dota 2</td>\n    </tr>\n    <tr>\n      <th>2</th>\n      <td>188163</td>\n      <td>346450</td>\n      <td>PLAYERUNKNOWN'S BATTLEGROUNDS</td>\n    </tr>\n    <tr>\n      <th>3</th>\n      <td>69091</td>\n      <td>264004</td>\n      <td>Among Us</td>\n    </tr>\n    <tr>\n      <th>4</th>\n      <td>56693</td>\n      <td>104107</td>\n      <td>Grand Theft Auto V</td>\n    </tr>\n    <tr>\n      <th>...</th>\n      <td>...</td>\n      <td>...</td>\n      <td>...</td>\n    </tr>\n    <tr>\n      <th>95</th>\n      <td>4080</td>\n      <td>10670</td>\n      <td>eFootball PES 2021 SEASON UPDATE</td>\n    </tr>\n    <tr>\n      <th>96</th>\n      <td>4059</td>\n      <td>7137</td>\n      <td>Grim Dawn</td>\n    </tr>\n    <tr>\n      <th>97</th>\n      <td>4047</td>\n      <td>9292</td>\n      <td>Sea of Thieves</td>\n    </tr>\n    <tr>\n      <th>98</th>\n      <td>4044</td>\n      <td>7834</td>\n      <td>Soulworker</td>\n    </tr>\n    <tr>\n      <th>99</th>\n      <td>4038</td>\n      <td>7853</td>\n      <td>Far Cry 5</td>\n    </tr>\n  </tbody>\n</table>\n<p>100 rows × 3 columns</p>\n</div>"
     },
     "metadata": {},
     "execution_count": 9
    }
   ],
   "source": [
    "def process(col):\n",
    "    res = []\n",
    "    for num_string in col:\n",
    "        if(isinstance(num_string, int)):\n",
    "            res.append(num_string)\n",
    "        else :\n",
    "            num_string = num_string.replace(\",\", \"\")\n",
    "            res.append(int(num_string))\n",
    "    return res\n",
    "\n",
    "df[['Current Players', 'Peak Today']] = df[['Current Players', 'Peak Today']].apply(process, axis=0)\n",
    "\n",
    "df"
   ]
  }
 ],
 "metadata": {
  "kernelspec": {
   "display_name": "Python 3",
   "language": "python",
   "name": "python3"
  },
  "language_info": {
   "codemirror_mode": {
    "name": "ipython",
    "version": 3
   },
   "file_extension": ".py",
   "mimetype": "text/x-python",
   "name": "python",
   "nbconvert_exporter": "python",
   "pygments_lexer": "ipython3",
   "version": "3.8.5-final"
  }
 },
 "nbformat": 4,
 "nbformat_minor": 2
}